{
 "cells": [
  {
   "cell_type": "code",
   "execution_count": 1,
   "id": "7f6afdbc-91af-4f0a-846a-2208e21feda3",
   "metadata": {},
   "outputs": [],
   "source": [
    "import pandas as pd\n",
    "import random\n",
    "from time import strftime\n",
    "from datetime import datetime"
   ]
  },
  {
   "cell_type": "code",
   "execution_count": 2,
   "id": "0ffbbf86-3f17-47c9-b37a-3ad44c2e3e56",
   "metadata": {},
   "outputs": [
    {
     "data": {
      "text/html": [
       "<div>\n",
       "<style scoped>\n",
       "    .dataframe tbody tr th:only-of-type {\n",
       "        vertical-align: middle;\n",
       "    }\n",
       "\n",
       "    .dataframe tbody tr th {\n",
       "        vertical-align: top;\n",
       "    }\n",
       "\n",
       "    .dataframe thead th {\n",
       "        text-align: right;\n",
       "    }\n",
       "</style>\n",
       "<table border=\"1\" class=\"dataframe\">\n",
       "  <thead>\n",
       "    <tr style=\"text-align: right;\">\n",
       "      <th></th>\n",
       "      <th>transaction_id</th>\n",
       "      <th>timestamp</th>\n",
       "      <th>product_id</th>\n",
       "      <th>quantity</th>\n",
       "      <th>price</th>\n",
       "      <th>customer_id</th>\n",
       "    </tr>\n",
       "  </thead>\n",
       "  <tbody>\n",
       "  </tbody>\n",
       "</table>\n",
       "</div>"
      ],
      "text/plain": [
       "Empty DataFrame\n",
       "Columns: [transaction_id, timestamp, product_id, quantity, price, customer_id]\n",
       "Index: []"
      ]
     },
     "execution_count": 2,
     "metadata": {},
     "output_type": "execute_result"
    }
   ],
   "source": [
    "#creating a DataFrame to store the transactional data in an organized way \n",
    "df = pd.DataFrame(columns = [\"transaction_id\", \"timestamp\", \"product_id\", \"quantity\", \"price\", \"customer_id\"])\n",
    "\n",
    "#save it to csv file\n",
    "df.to_csv(\"retail_transactions.csv\", index = False)\n",
    "\n",
    "transaction_df = pd.read_csv(\"retail_transactions.csv\")\n",
    "transaction_df.head()"
   ]
  },
  {
   "cell_type": "code",
   "execution_count": 3,
   "id": "91fbcda8-5542-417e-8467-e026ec256c66",
   "metadata": {},
   "outputs": [],
   "source": [
    "#creating a function to generate transaction data \n",
    "def generator(df):\n",
    "    transaction_id = \"t1\"\n",
    "    while transaction_id in df['transaction_id'].values:\n",
    "        prefix, num = transaction_id[0], int(transaction_id[1:])\n",
    "        transaction_id = f\"{prefix}{num+1}\"\n",
    "    \n",
    "    timestamp = datetime.now().strftime('%Y-%m-%d %H:%M:%S')\n",
    "    product_id = f\"P{random.randint(100,1000)}\"\n",
    "    quantity = random.randint(1,5)\n",
    "    price = round(random.uniform(5, 100), 2) \n",
    "    customer_id = \"C1\"\n",
    "    while customer_id in df['customer_id'].values:\n",
    "        prefix, num = customer_id[0], int(customer_id[1:])\n",
    "        customer_id = f\"{prefix}{num+1}\"\n",
    "    generated_df = pd.DataFrame({\"transaction_id\" : [transaction_id],\n",
    "                                 \"timestamp\" : [timestamp],\n",
    "                                 \"product_id\" : [product_id],\n",
    "                                 \"quantity\" : [quantity],\n",
    "                                 \"price\" : [price],\n",
    "                                 \"customer_id\" : [customer_id]})\n",
    "    df = df.dropna(axis=1, how='all')\n",
    "    generated_df = generated_df.dropna(axis=1, how='all')\n",
    "    transaction_df = pd.concat([df, generated_df], ignore_index = True)\n",
    "    transaction_df.to_csv(\"retail_transactions.csv\", index=False)\n",
    "    \n",
    "generator(transaction_df)"
   ]
  },
  {
   "cell_type": "code",
   "execution_count": 4,
   "id": "d27a3253-202c-4d2b-a138-d9b5f741e042",
   "metadata": {},
   "outputs": [
    {
     "data": {
      "text/html": [
       "<div>\n",
       "<style scoped>\n",
       "    .dataframe tbody tr th:only-of-type {\n",
       "        vertical-align: middle;\n",
       "    }\n",
       "\n",
       "    .dataframe tbody tr th {\n",
       "        vertical-align: top;\n",
       "    }\n",
       "\n",
       "    .dataframe thead th {\n",
       "        text-align: right;\n",
       "    }\n",
       "</style>\n",
       "<table border=\"1\" class=\"dataframe\">\n",
       "  <thead>\n",
       "    <tr style=\"text-align: right;\">\n",
       "      <th></th>\n",
       "      <th>transaction_id</th>\n",
       "      <th>timestamp</th>\n",
       "      <th>product_id</th>\n",
       "      <th>quantity</th>\n",
       "      <th>price</th>\n",
       "      <th>customer_id</th>\n",
       "    </tr>\n",
       "  </thead>\n",
       "  <tbody>\n",
       "    <tr>\n",
       "      <th>0</th>\n",
       "      <td>t1</td>\n",
       "      <td>2024-10-29 19:00:17</td>\n",
       "      <td>P376</td>\n",
       "      <td>4</td>\n",
       "      <td>65.96</td>\n",
       "      <td>C1</td>\n",
       "    </tr>\n",
       "  </tbody>\n",
       "</table>\n",
       "</div>"
      ],
      "text/plain": [
       "  transaction_id            timestamp product_id  quantity  price customer_id\n",
       "0             t1  2024-10-29 19:00:17       P376         4  65.96          C1"
      ]
     },
     "execution_count": 4,
     "metadata": {},
     "output_type": "execute_result"
    }
   ],
   "source": [
    "transaction_df = pd.read_csv('retail_transactions.csv')\n",
    "transaction_df.head()"
   ]
  },
  {
   "cell_type": "code",
   "execution_count": 5,
   "id": "395cfcfe-127b-4ec9-9f20-eae92669a23f",
   "metadata": {},
   "outputs": [
    {
     "data": {
      "text/html": [
       "<div>\n",
       "<style scoped>\n",
       "    .dataframe tbody tr th:only-of-type {\n",
       "        vertical-align: middle;\n",
       "    }\n",
       "\n",
       "    .dataframe tbody tr th {\n",
       "        vertical-align: top;\n",
       "    }\n",
       "\n",
       "    .dataframe thead th {\n",
       "        text-align: right;\n",
       "    }\n",
       "</style>\n",
       "<table border=\"1\" class=\"dataframe\">\n",
       "  <thead>\n",
       "    <tr style=\"text-align: right;\">\n",
       "      <th></th>\n",
       "      <th>transaction_id</th>\n",
       "      <th>timestamp</th>\n",
       "      <th>product_id</th>\n",
       "      <th>quantity</th>\n",
       "      <th>price</th>\n",
       "      <th>customer_id</th>\n",
       "    </tr>\n",
       "  </thead>\n",
       "  <tbody>\n",
       "    <tr>\n",
       "      <th>0</th>\n",
       "      <td>t1</td>\n",
       "      <td>2024-10-29 19:00:17</td>\n",
       "      <td>P376</td>\n",
       "      <td>4</td>\n",
       "      <td>65.96</td>\n",
       "      <td>C1</td>\n",
       "    </tr>\n",
       "    <tr>\n",
       "      <th>1</th>\n",
       "      <td>t2</td>\n",
       "      <td>2024-10-29 19:00:17</td>\n",
       "      <td>P680</td>\n",
       "      <td>4</td>\n",
       "      <td>41.97</td>\n",
       "      <td>C2</td>\n",
       "    </tr>\n",
       "  </tbody>\n",
       "</table>\n",
       "</div>"
      ],
      "text/plain": [
       "  transaction_id            timestamp product_id  quantity  price customer_id\n",
       "0             t1  2024-10-29 19:00:17       P376         4  65.96          C1\n",
       "1             t2  2024-10-29 19:00:17       P680         4  41.97          C2"
      ]
     },
     "execution_count": 5,
     "metadata": {},
     "output_type": "execute_result"
    }
   ],
   "source": [
    "generator(transaction_df)\n",
    "transaction_df = pd.read_csv('retail_transactions.csv')\n",
    "transaction_df.head()"
   ]
  }
 ],
 "metadata": {
  "kernelspec": {
   "display_name": "Python 3 (ipykernel)",
   "language": "python",
   "name": "python3"
  },
  "language_info": {
   "codemirror_mode": {
    "name": "ipython",
    "version": 3
   },
   "file_extension": ".py",
   "mimetype": "text/x-python",
   "name": "python",
   "nbconvert_exporter": "python",
   "pygments_lexer": "ipython3",
   "version": "3.12.4"
  }
 },
 "nbformat": 4,
 "nbformat_minor": 5
}
